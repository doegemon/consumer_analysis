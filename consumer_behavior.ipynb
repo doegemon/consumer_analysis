{
 "cells": [
  {
   "cell_type": "markdown",
   "metadata": {},
   "source": [
    "# Análise de Comportamento de Compra de Consumidores"
   ]
  },
  {
   "cell_type": "markdown",
   "metadata": {},
   "source": [
    "Levantamento de algumas informações e dados sobre as compras feitas em um website, levando em conta gênero, idade, valores, items, entre outros aspectos."
   ]
  },
  {
   "cell_type": "code",
   "execution_count": 1,
   "metadata": {
    "ExecuteTime": {
     "end_time": "2022-05-22T18:10:27.191486Z",
     "start_time": "2022-05-22T18:10:26.779393Z"
    }
   },
   "outputs": [],
   "source": [
    "# Bibliotecas\n",
    "import pandas as pd\n",
    "import numpy as np"
   ]
  },
  {
   "cell_type": "code",
   "execution_count": 2,
   "metadata": {
    "ExecuteTime": {
     "end_time": "2022-05-22T18:10:28.440734Z",
     "start_time": "2022-05-22T18:10:28.418728Z"
    }
   },
   "outputs": [
    {
     "data": {
      "text/html": [
       "<div>\n",
       "<style scoped>\n",
       "    .dataframe tbody tr th:only-of-type {\n",
       "        vertical-align: middle;\n",
       "    }\n",
       "\n",
       "    .dataframe tbody tr th {\n",
       "        vertical-align: top;\n",
       "    }\n",
       "\n",
       "    .dataframe thead th {\n",
       "        text-align: right;\n",
       "    }\n",
       "</style>\n",
       "<table border=\"1\" class=\"dataframe\">\n",
       "  <thead>\n",
       "    <tr style=\"text-align: right;\">\n",
       "      <th></th>\n",
       "      <th>Login</th>\n",
       "      <th>Idade</th>\n",
       "      <th>Sexo</th>\n",
       "      <th>Item ID</th>\n",
       "      <th>Nome do Item</th>\n",
       "      <th>Valor</th>\n",
       "    </tr>\n",
       "  </thead>\n",
       "  <tbody>\n",
       "    <tr>\n",
       "      <th>0</th>\n",
       "      <td>Aelalis34</td>\n",
       "      <td>38</td>\n",
       "      <td>Masculino</td>\n",
       "      <td>165</td>\n",
       "      <td>Bone Crushing Silver Skewer</td>\n",
       "      <td>3.37</td>\n",
       "    </tr>\n",
       "    <tr>\n",
       "      <th>1</th>\n",
       "      <td>Eolo46</td>\n",
       "      <td>21</td>\n",
       "      <td>Masculino</td>\n",
       "      <td>119</td>\n",
       "      <td>Stormbringer, Dark Blade of Ending Misery</td>\n",
       "      <td>2.32</td>\n",
       "    </tr>\n",
       "    <tr>\n",
       "      <th>2</th>\n",
       "      <td>Assastnya25</td>\n",
       "      <td>34</td>\n",
       "      <td>Masculino</td>\n",
       "      <td>174</td>\n",
       "      <td>Primitive Blade</td>\n",
       "      <td>2.46</td>\n",
       "    </tr>\n",
       "    <tr>\n",
       "      <th>3</th>\n",
       "      <td>Pheusrical25</td>\n",
       "      <td>21</td>\n",
       "      <td>Masculino</td>\n",
       "      <td>92</td>\n",
       "      <td>Final Critic</td>\n",
       "      <td>1.36</td>\n",
       "    </tr>\n",
       "    <tr>\n",
       "      <th>4</th>\n",
       "      <td>Aela59</td>\n",
       "      <td>23</td>\n",
       "      <td>Masculino</td>\n",
       "      <td>63</td>\n",
       "      <td>Stormfury Mace</td>\n",
       "      <td>1.27</td>\n",
       "    </tr>\n",
       "  </tbody>\n",
       "</table>\n",
       "</div>"
      ],
      "text/plain": [
       "          Login  Idade       Sexo  Item ID  \\\n",
       "0     Aelalis34     38  Masculino      165   \n",
       "1        Eolo46     21  Masculino      119   \n",
       "2   Assastnya25     34  Masculino      174   \n",
       "3  Pheusrical25     21  Masculino       92   \n",
       "4        Aela59     23  Masculino       63   \n",
       "\n",
       "                                Nome do Item  Valor  \n",
       "0                Bone Crushing Silver Skewer   3.37  \n",
       "1  Stormbringer, Dark Blade of Ending Misery   2.32  \n",
       "2                            Primitive Blade   2.46  \n",
       "3                               Final Critic   1.36  \n",
       "4                             Stormfury Mace   1.27  "
      ]
     },
     "execution_count": 2,
     "metadata": {},
     "output_type": "execute_result"
    }
   ],
   "source": [
    "# Carregando o arquivo\n",
    "load_file = \"dados_compras.json\"\n",
    "purchase_file = pd.read_json(load_file, orient = \"records\")\n",
    "purchase_file.head()"
   ]
  },
  {
   "cell_type": "markdown",
   "metadata": {},
   "source": [
    "## Informações Sobre os Consumidores"
   ]
  },
  {
   "cell_type": "code",
   "execution_count": 4,
   "metadata": {
    "ExecuteTime": {
     "end_time": "2022-05-22T18:10:41.892366Z",
     "start_time": "2022-05-22T18:10:41.886365Z"
    }
   },
   "outputs": [
    {
     "data": {
      "text/html": [
       "<div>\n",
       "<style scoped>\n",
       "    .dataframe tbody tr th:only-of-type {\n",
       "        vertical-align: middle;\n",
       "    }\n",
       "\n",
       "    .dataframe tbody tr th {\n",
       "        vertical-align: top;\n",
       "    }\n",
       "\n",
       "    .dataframe thead th {\n",
       "        text-align: right;\n",
       "    }\n",
       "</style>\n",
       "<table border=\"1\" class=\"dataframe\">\n",
       "  <thead>\n",
       "    <tr style=\"text-align: right;\">\n",
       "      <th></th>\n",
       "      <th>Sexo</th>\n",
       "      <th>Login</th>\n",
       "      <th>Idade</th>\n",
       "    </tr>\n",
       "  </thead>\n",
       "  <tbody>\n",
       "    <tr>\n",
       "      <th>0</th>\n",
       "      <td>Masculino</td>\n",
       "      <td>Aelalis34</td>\n",
       "      <td>38</td>\n",
       "    </tr>\n",
       "    <tr>\n",
       "      <th>1</th>\n",
       "      <td>Masculino</td>\n",
       "      <td>Eolo46</td>\n",
       "      <td>21</td>\n",
       "    </tr>\n",
       "    <tr>\n",
       "      <th>2</th>\n",
       "      <td>Masculino</td>\n",
       "      <td>Assastnya25</td>\n",
       "      <td>34</td>\n",
       "    </tr>\n",
       "    <tr>\n",
       "      <th>3</th>\n",
       "      <td>Masculino</td>\n",
       "      <td>Pheusrical25</td>\n",
       "      <td>21</td>\n",
       "    </tr>\n",
       "    <tr>\n",
       "      <th>4</th>\n",
       "      <td>Masculino</td>\n",
       "      <td>Aela59</td>\n",
       "      <td>23</td>\n",
       "    </tr>\n",
       "  </tbody>\n",
       "</table>\n",
       "</div>"
      ],
      "text/plain": [
       "        Sexo         Login  Idade\n",
       "0  Masculino     Aelalis34     38\n",
       "1  Masculino        Eolo46     21\n",
       "2  Masculino   Assastnya25     34\n",
       "3  Masculino  Pheusrical25     21\n",
       "4  Masculino        Aela59     23"
      ]
     },
     "execution_count": 4,
     "metadata": {},
     "output_type": "execute_result"
    }
   ],
   "source": [
    "# Criando um dataframe somente com as informações demográficas\n",
    "demographics = purchase_file[['Sexo', 'Login', 'Idade']]\n",
    "demographics.head()"
   ]
  },
  {
   "cell_type": "code",
   "execution_count": 5,
   "metadata": {
    "ExecuteTime": {
     "end_time": "2022-05-22T18:10:44.097365Z",
     "start_time": "2022-05-22T18:10:44.090364Z"
    }
   },
   "outputs": [
    {
     "data": {
      "text/plain": [
       "573"
      ]
     },
     "execution_count": 5,
     "metadata": {},
     "output_type": "execute_result"
    }
   ],
   "source": [
    "# Limpeza dos dados e removendo duplicatas\n",
    "demographics = demographics.drop_duplicates()\n",
    "unique = demographics.count()[0]\n",
    "unique"
   ]
  },
  {
   "cell_type": "code",
   "execution_count": 6,
   "metadata": {
    "ExecuteTime": {
     "end_time": "2022-05-22T18:10:58.492187Z",
     "start_time": "2022-05-22T18:10:58.488186Z"
    }
   },
   "outputs": [
    {
     "data": {
      "text/html": [
       "<div>\n",
       "<style scoped>\n",
       "    .dataframe tbody tr th:only-of-type {\n",
       "        vertical-align: middle;\n",
       "    }\n",
       "\n",
       "    .dataframe tbody tr th {\n",
       "        vertical-align: top;\n",
       "    }\n",
       "\n",
       "    .dataframe thead th {\n",
       "        text-align: right;\n",
       "    }\n",
       "</style>\n",
       "<table border=\"1\" class=\"dataframe\">\n",
       "  <thead>\n",
       "    <tr style=\"text-align: right;\">\n",
       "      <th></th>\n",
       "      <th>Total de Clientes</th>\n",
       "    </tr>\n",
       "  </thead>\n",
       "  <tbody>\n",
       "    <tr>\n",
       "      <th>0</th>\n",
       "      <td>573</td>\n",
       "    </tr>\n",
       "  </tbody>\n",
       "</table>\n",
       "</div>"
      ],
      "text/plain": [
       "   Total de Clientes\n",
       "0                573"
      ]
     },
     "execution_count": 6,
     "metadata": {},
     "output_type": "execute_result"
    }
   ],
   "source": [
    "# Converetendo o resultado para DataFrame para uso em posterior análise\n",
    "pd.DataFrame({'Total de Clientes': [unique]})"
   ]
  },
  {
   "cell_type": "markdown",
   "metadata": {},
   "source": [
    "## Análise Geral de Compras"
   ]
  },
  {
   "cell_type": "code",
   "execution_count": 7,
   "metadata": {
    "ExecuteTime": {
     "end_time": "2022-05-22T18:11:05.597258Z",
     "start_time": "2022-05-22T18:11:05.593258Z"
    }
   },
   "outputs": [
    {
     "data": {
      "text/plain": [
       "183"
      ]
     },
     "execution_count": 7,
     "metadata": {},
     "output_type": "execute_result"
    }
   ],
   "source": [
    "#Número de itens exclusivos\n",
    "item_id = len(purchase_file['Item ID'].unique())\n",
    "item_id"
   ]
  },
  {
   "cell_type": "code",
   "execution_count": 8,
   "metadata": {
    "ExecuteTime": {
     "end_time": "2022-05-22T18:11:08.303917Z",
     "start_time": "2022-05-22T18:11:08.299916Z"
    }
   },
   "outputs": [
    {
     "data": {
      "text/plain": [
       "2.931192307692303"
      ]
     },
     "execution_count": 8,
     "metadata": {},
     "output_type": "execute_result"
    }
   ],
   "source": [
    "#Preço médio de compra\n",
    "average_item_price = purchase_file['Valor'].mean()\n",
    "average_item_price"
   ]
  },
  {
   "cell_type": "code",
   "execution_count": 9,
   "metadata": {
    "ExecuteTime": {
     "end_time": "2022-05-22T18:11:21.092191Z",
     "start_time": "2022-05-22T18:11:21.088198Z"
    }
   },
   "outputs": [
    {
     "data": {
      "text/plain": [
       "780"
      ]
     },
     "execution_count": 9,
     "metadata": {},
     "output_type": "execute_result"
    }
   ],
   "source": [
    "#Número total de compras\n",
    "total_item_count = purchase_file['Valor'].count()\n",
    "total_item_count"
   ]
  },
  {
   "cell_type": "code",
   "execution_count": 10,
   "metadata": {
    "ExecuteTime": {
     "end_time": "2022-05-22T18:11:22.992213Z",
     "start_time": "2022-05-22T18:11:22.989212Z"
    }
   },
   "outputs": [
    {
     "data": {
      "text/plain": [
       "2286.33"
      ]
     },
     "execution_count": 10,
     "metadata": {},
     "output_type": "execute_result"
    }
   ],
   "source": [
    "#Rendimento total\n",
    "total_item_price = purchase_file['Valor'].sum()\n",
    "total_item_price"
   ]
  },
  {
   "cell_type": "code",
   "execution_count": 12,
   "metadata": {
    "ExecuteTime": {
     "end_time": "2022-05-22T18:12:02.231476Z",
     "start_time": "2022-05-22T18:12:02.223483Z"
    }
   },
   "outputs": [
    {
     "data": {
      "text/html": [
       "<div>\n",
       "<style scoped>\n",
       "    .dataframe tbody tr th:only-of-type {\n",
       "        vertical-align: middle;\n",
       "    }\n",
       "\n",
       "    .dataframe tbody tr th {\n",
       "        vertical-align: top;\n",
       "    }\n",
       "\n",
       "    .dataframe thead th {\n",
       "        text-align: right;\n",
       "    }\n",
       "</style>\n",
       "<table border=\"1\" class=\"dataframe\">\n",
       "  <thead>\n",
       "    <tr style=\"text-align: right;\">\n",
       "      <th></th>\n",
       "      <th>Número de Itens Únicos</th>\n",
       "      <th>Número Total de Compras</th>\n",
       "      <th>Total de Vendas</th>\n",
       "      <th>Preço Médio</th>\n",
       "    </tr>\n",
       "  </thead>\n",
       "  <tbody>\n",
       "    <tr>\n",
       "      <th>0</th>\n",
       "      <td>183</td>\n",
       "      <td>780</td>\n",
       "      <td>2286.33</td>\n",
       "      <td>2.93</td>\n",
       "    </tr>\n",
       "  </tbody>\n",
       "</table>\n",
       "</div>"
      ],
      "text/plain": [
       "   Número de Itens Únicos  Número Total de Compras  Total de Vendas  \\\n",
       "0                     183                      780          2286.33   \n",
       "\n",
       "   Preço Médio  \n",
       "0         2.93  "
      ]
     },
     "execution_count": 12,
     "metadata": {},
     "output_type": "execute_result"
    }
   ],
   "source": [
    "# Dataframe com os resultados\n",
    "purchases = pd.DataFrame({'Número de Itens Únicos': item_id, \n",
    "                         'Número Total de Compras': total_item_count,\n",
    "                         'Total de Vendas': total_item_price,\n",
    "                         'Preço Médio': [average_item_price]})\n",
    "purchases = purchases.round(2)\n",
    "purchases"
   ]
  },
  {
   "cell_type": "markdown",
   "metadata": {},
   "source": [
    "## Análise Demográfica"
   ]
  },
  {
   "cell_type": "code",
   "execution_count": 19,
   "metadata": {
    "ExecuteTime": {
     "end_time": "2022-05-22T18:13:23.056515Z",
     "start_time": "2022-05-22T18:13:23.051522Z"
    }
   },
   "outputs": [
    {
     "data": {
      "text/plain": [
       "Masculino                465\n",
       "Feminino                 100\n",
       "Outro / Não Divulgado      8\n",
       "Name: Sexo, dtype: int64"
      ]
     },
     "execution_count": 19,
     "metadata": {},
     "output_type": "execute_result"
    }
   ],
   "source": [
    "# Contagem de compradores por gênero\n",
    "gender_count = demographics['Sexo'].value_counts()\n",
    "gender_count"
   ]
  },
  {
   "cell_type": "code",
   "execution_count": 16,
   "metadata": {
    "ExecuteTime": {
     "end_time": "2022-05-22T18:12:37.815299Z",
     "start_time": "2022-05-22T18:12:37.811289Z"
    }
   },
   "outputs": [
    {
     "data": {
      "text/plain": [
       "Masculino                81.151832\n",
       "Feminino                 17.452007\n",
       "Outro / Não Divulgado     1.396161\n",
       "Name: Sexo, dtype: float64"
      ]
     },
     "execution_count": 16,
     "metadata": {},
     "output_type": "execute_result"
    }
   ],
   "source": [
    "# Porcentagem de compradores por gênero\n",
    "gender_percent = (gender_count / unique) * 100\n",
    "gender_percent"
   ]
  },
  {
   "cell_type": "code",
   "execution_count": 17,
   "metadata": {
    "ExecuteTime": {
     "end_time": "2022-05-22T18:12:58.777468Z",
     "start_time": "2022-05-22T18:12:58.771467Z"
    }
   },
   "outputs": [
    {
     "data": {
      "text/html": [
       "<div>\n",
       "<style scoped>\n",
       "    .dataframe tbody tr th:only-of-type {\n",
       "        vertical-align: middle;\n",
       "    }\n",
       "\n",
       "    .dataframe tbody tr th {\n",
       "        vertical-align: top;\n",
       "    }\n",
       "\n",
       "    .dataframe thead th {\n",
       "        text-align: right;\n",
       "    }\n",
       "</style>\n",
       "<table border=\"1\" class=\"dataframe\">\n",
       "  <thead>\n",
       "    <tr style=\"text-align: right;\">\n",
       "      <th></th>\n",
       "      <th>Total</th>\n",
       "      <th>%</th>\n",
       "    </tr>\n",
       "  </thead>\n",
       "  <tbody>\n",
       "    <tr>\n",
       "      <th>Masculino</th>\n",
       "      <td>465</td>\n",
       "      <td>81.15</td>\n",
       "    </tr>\n",
       "    <tr>\n",
       "      <th>Feminino</th>\n",
       "      <td>100</td>\n",
       "      <td>17.45</td>\n",
       "    </tr>\n",
       "    <tr>\n",
       "      <th>Outro / Não Divulgado</th>\n",
       "      <td>8</td>\n",
       "      <td>1.40</td>\n",
       "    </tr>\n",
       "  </tbody>\n",
       "</table>\n",
       "</div>"
      ],
      "text/plain": [
       "                       Total      %\n",
       "Masculino                465  81.15\n",
       "Feminino                 100  17.45\n",
       "Outro / Não Divulgado      8   1.40"
      ]
     },
     "execution_count": 17,
     "metadata": {},
     "output_type": "execute_result"
    }
   ],
   "source": [
    "# Dataframe com resultados\n",
    "gender_demographics = pd.DataFrame({'Total': gender_count,\n",
    "                                   '%': gender_percent})\n",
    "gender_demographics = gender_demographics.round(2)\n",
    "gender_demographics"
   ]
  },
  {
   "cell_type": "markdown",
   "metadata": {},
   "source": [
    "## Análise de Compras Por Gênero"
   ]
  },
  {
   "cell_type": "code",
   "execution_count": 20,
   "metadata": {
    "ExecuteTime": {
     "end_time": "2022-05-22T18:13:28.499000Z",
     "start_time": "2022-05-22T18:13:28.493999Z"
    }
   },
   "outputs": [
    {
     "data": {
      "text/plain": [
       "Sexo\n",
       "Feminino                 136\n",
       "Masculino                633\n",
       "Outro / Não Divulgado     11\n",
       "Name: Número de Compras, dtype: int64"
      ]
     },
     "execution_count": 20,
     "metadata": {},
     "output_type": "execute_result"
    }
   ],
   "source": [
    "#Número de compras por gênero\n",
    "purchase_count = purchase_file.groupby(['Sexo']).count()['Valor'].rename('Número de Compras')\n",
    "purchase_count"
   ]
  },
  {
   "cell_type": "code",
   "execution_count": 21,
   "metadata": {
    "ExecuteTime": {
     "end_time": "2022-05-22T18:13:31.863503Z",
     "start_time": "2022-05-22T18:13:31.857502Z"
    }
   },
   "outputs": [
    {
     "data": {
      "text/plain": [
       "Sexo\n",
       "Feminino                 2.815515\n",
       "Masculino                2.950521\n",
       "Outro / Não Divulgado    3.249091\n",
       "Name: Preço Médio, dtype: float64"
      ]
     },
     "execution_count": 21,
     "metadata": {},
     "output_type": "execute_result"
    }
   ],
   "source": [
    "#Preço médio de compra por gênero\n",
    "gender_average = purchase_file.groupby(['Sexo']).mean()['Valor'].rename('Preço Médio')\n",
    "gender_average"
   ]
  },
  {
   "cell_type": "code",
   "execution_count": 22,
   "metadata": {
    "ExecuteTime": {
     "end_time": "2022-05-22T18:13:33.903234Z",
     "start_time": "2022-05-22T18:13:33.897232Z"
    }
   },
   "outputs": [
    {
     "data": {
      "text/plain": [
       "Sexo\n",
       "Feminino                  382.91\n",
       "Masculino                1867.68\n",
       "Outro / Não Divulgado      35.74\n",
       "Name: Total, dtype: float64"
      ]
     },
     "execution_count": 22,
     "metadata": {},
     "output_type": "execute_result"
    }
   ],
   "source": [
    "#Valor Total de Compra por gênero\n",
    "gender_total = purchase_file.groupby(['Sexo']).sum()['Valor'].rename('Total')\n",
    "gender_total"
   ]
  },
  {
   "cell_type": "code",
   "execution_count": 24,
   "metadata": {
    "ExecuteTime": {
     "end_time": "2022-05-22T18:13:50.014216Z",
     "start_time": "2022-05-22T18:13:50.006214Z"
    }
   },
   "outputs": [
    {
     "data": {
      "text/html": [
       "<div>\n",
       "<style scoped>\n",
       "    .dataframe tbody tr th:only-of-type {\n",
       "        vertical-align: middle;\n",
       "    }\n",
       "\n",
       "    .dataframe tbody tr th {\n",
       "        vertical-align: top;\n",
       "    }\n",
       "\n",
       "    .dataframe thead th {\n",
       "        text-align: right;\n",
       "    }\n",
       "</style>\n",
       "<table border=\"1\" class=\"dataframe\">\n",
       "  <thead>\n",
       "    <tr style=\"text-align: right;\">\n",
       "      <th></th>\n",
       "      <th>Sexo</th>\n",
       "      <th>Número de Compras</th>\n",
       "      <th>Valor Médio por Compra</th>\n",
       "      <th>Total de Vendas</th>\n",
       "    </tr>\n",
       "  </thead>\n",
       "  <tbody>\n",
       "    <tr>\n",
       "      <th>0</th>\n",
       "      <td>Feminino</td>\n",
       "      <td>136</td>\n",
       "      <td>2.82</td>\n",
       "      <td>382.91</td>\n",
       "    </tr>\n",
       "    <tr>\n",
       "      <th>1</th>\n",
       "      <td>Masculino</td>\n",
       "      <td>633</td>\n",
       "      <td>2.95</td>\n",
       "      <td>1867.68</td>\n",
       "    </tr>\n",
       "    <tr>\n",
       "      <th>2</th>\n",
       "      <td>Outro / Não Divulgado</td>\n",
       "      <td>11</td>\n",
       "      <td>3.25</td>\n",
       "      <td>35.74</td>\n",
       "    </tr>\n",
       "  </tbody>\n",
       "</table>\n",
       "</div>"
      ],
      "text/plain": [
       "                    Sexo  Número de Compras  Valor Médio por Compra  \\\n",
       "0               Feminino                136                    2.82   \n",
       "1              Masculino                633                    2.95   \n",
       "2  Outro / Não Divulgado                 11                    3.25   \n",
       "\n",
       "   Total de Vendas  \n",
       "0           382.91  \n",
       "1          1867.68  \n",
       "2            35.74  "
      ]
     },
     "execution_count": 24,
     "metadata": {},
     "output_type": "execute_result"
    }
   ],
   "source": [
    "# Dataframe com os resultados\n",
    "gender_analysis = pd.DataFrame({'Número de Compras': purchase_count,\n",
    "                               'Valor Médio por Compra': gender_average,\n",
    "                               'Total de Vendas': gender_total}).reset_index()\n",
    "gender_analysis = gender_analysis.round(2)\n",
    "gender_analysis"
   ]
  },
  {
   "cell_type": "markdown",
   "metadata": {},
   "source": [
    "## Análise de Compras por Faixa Etária"
   ]
  },
  {
   "cell_type": "code",
   "execution_count": 25,
   "metadata": {
    "ExecuteTime": {
     "end_time": "2022-05-22T18:14:51.468947Z",
     "start_time": "2022-05-22T18:14:51.464946Z"
    }
   },
   "outputs": [
    {
     "data": {
      "text/plain": [
       "20    98\n",
       "24    70\n",
       "22    68\n",
       "25    67\n",
       "23    57\n",
       "15    47\n",
       "21    43\n",
       "18    24\n",
       "16    23\n",
       "19    22\n",
       "29    21\n",
       "27    19\n",
       "7     19\n",
       "30    18\n",
       "17    17\n",
       "31    16\n",
       "40    14\n",
       "26    13\n",
       "35    12\n",
       "13    11\n",
       "33    11\n",
       "32    11\n",
       "37     9\n",
       "38     9\n",
       "11     9\n",
       "34     8\n",
       "36     7\n",
       "9      6\n",
       "14     6\n",
       "28     5\n",
       "12     5\n",
       "39     5\n",
       "10     4\n",
       "8      3\n",
       "45     1\n",
       "42     1\n",
       "43     1\n",
       "Name: Idade, dtype: int64"
      ]
     },
     "execution_count": 25,
     "metadata": {},
     "output_type": "execute_result"
    }
   ],
   "source": [
    "# Idades dos clientes\n",
    "age_count = purchase_file['Idade'].value_counts()\n",
    "age_count"
   ]
  },
  {
   "cell_type": "code",
   "execution_count": 26,
   "metadata": {
    "ExecuteTime": {
     "end_time": "2022-05-22T18:15:11.360779Z",
     "start_time": "2022-05-22T18:15:11.354941Z"
    }
   },
   "outputs": [
    {
     "data": {
      "text/plain": [
       "Idade\n",
       "7     2.919474\n",
       "8     1.956667\n",
       "9     3.686667\n",
       "10    3.290000\n",
       "11    2.973333\n",
       "12    3.842000\n",
       "13    2.138182\n",
       "14    2.383333\n",
       "15    2.986383\n",
       "16    2.639565\n",
       "17    3.006471\n",
       "18    2.797500\n",
       "19    3.050000\n",
       "20    2.884490\n",
       "21    2.799302\n",
       "22    3.030147\n",
       "23    2.740526\n",
       "24    3.049429\n",
       "25    3.082388\n",
       "26    2.448462\n",
       "27    3.063684\n",
       "28    2.562000\n",
       "29    2.902857\n",
       "30    3.111667\n",
       "31    2.976250\n",
       "32    3.409091\n",
       "33    2.890909\n",
       "34    3.040000\n",
       "35    3.085000\n",
       "36    2.877143\n",
       "37    2.345556\n",
       "38    2.865556\n",
       "39    3.068000\n",
       "40    3.222143\n",
       "42    2.110000\n",
       "43    3.810000\n",
       "45    2.720000\n",
       "Name: Valor, dtype: float64"
      ]
     },
     "execution_count": 26,
     "metadata": {},
     "output_type": "execute_result"
    }
   ],
   "source": [
    "# Preço médio de compra por idade\n",
    "age_average = purchase_file.groupby(['Idade']).mean()['Valor']\n",
    "age_average"
   ]
  },
  {
   "cell_type": "code",
   "execution_count": 27,
   "metadata": {
    "ExecuteTime": {
     "end_time": "2022-05-22T18:15:27.125935Z",
     "start_time": "2022-05-22T18:15:27.118941Z"
    }
   },
   "outputs": [
    {
     "data": {
      "text/plain": [
       "Idade\n",
       "7      55.47\n",
       "8       5.87\n",
       "9      22.12\n",
       "10     13.16\n",
       "11     26.76\n",
       "12     19.21\n",
       "13     23.52\n",
       "14     14.30\n",
       "15    140.36\n",
       "16     60.71\n",
       "17     51.11\n",
       "18     67.14\n",
       "19     67.10\n",
       "20    282.68\n",
       "21    120.37\n",
       "22    206.05\n",
       "23    156.21\n",
       "24    213.46\n",
       "25    206.52\n",
       "26     31.83\n",
       "27     58.21\n",
       "28     12.81\n",
       "29     60.96\n",
       "30     56.01\n",
       "31     47.62\n",
       "32     37.50\n",
       "33     31.80\n",
       "34     24.32\n",
       "35     37.02\n",
       "36     20.14\n",
       "37     21.11\n",
       "38     25.79\n",
       "39     15.34\n",
       "40     45.11\n",
       "42      2.11\n",
       "43      3.81\n",
       "45      2.72\n",
       "Name: Valor, dtype: float64"
      ]
     },
     "execution_count": 27,
     "metadata": {},
     "output_type": "execute_result"
    }
   ],
   "source": [
    "# Valor total de compra por idade\n",
    "age_total = purchase_file.groupby(['Idade']).sum()['Valor']\n",
    "age_total"
   ]
  },
  {
   "cell_type": "code",
   "execution_count": 28,
   "metadata": {
    "ExecuteTime": {
     "end_time": "2022-05-22T18:15:45.074938Z",
     "start_time": "2022-05-22T18:15:45.069945Z"
    }
   },
   "outputs": [
    {
     "data": {
      "text/plain": [
       "20    17.102967\n",
       "24    12.216405\n",
       "22    11.867365\n",
       "25    11.692845\n",
       "23     9.947644\n",
       "15     8.202443\n",
       "21     7.504363\n",
       "18     4.188482\n",
       "16     4.013962\n",
       "19     3.839442\n",
       "29     3.664921\n",
       "27     3.315881\n",
       "7      3.315881\n",
       "30     3.141361\n",
       "17     2.966841\n",
       "31     2.792321\n",
       "40     2.443281\n",
       "26     2.268761\n",
       "35     2.094241\n",
       "13     1.919721\n",
       "33     1.919721\n",
       "32     1.919721\n",
       "37     1.570681\n",
       "38     1.570681\n",
       "11     1.570681\n",
       "34     1.396161\n",
       "36     1.221640\n",
       "9      1.047120\n",
       "14     1.047120\n",
       "28     0.872600\n",
       "12     0.872600\n",
       "39     0.872600\n",
       "10     0.698080\n",
       "8      0.523560\n",
       "45     0.174520\n",
       "42     0.174520\n",
       "43     0.174520\n",
       "Name: Idade, dtype: float64"
      ]
     },
     "execution_count": 28,
     "metadata": {},
     "output_type": "execute_result"
    }
   ],
   "source": [
    "# Porcentagem de clientes por idade\n",
    "age_percent = (age_count / unique) * 100\n",
    "age_percent"
   ]
  },
  {
   "cell_type": "code",
   "execution_count": 29,
   "metadata": {
    "ExecuteTime": {
     "end_time": "2022-05-22T18:15:58.970648Z",
     "start_time": "2022-05-22T18:15:58.956653Z"
    }
   },
   "outputs": [
    {
     "data": {
      "text/html": [
       "<div>\n",
       "<style scoped>\n",
       "    .dataframe tbody tr th:only-of-type {\n",
       "        vertical-align: middle;\n",
       "    }\n",
       "\n",
       "    .dataframe tbody tr th {\n",
       "        vertical-align: top;\n",
       "    }\n",
       "\n",
       "    .dataframe thead th {\n",
       "        text-align: right;\n",
       "    }\n",
       "</style>\n",
       "<table border=\"1\" class=\"dataframe\">\n",
       "  <thead>\n",
       "    <tr style=\"text-align: right;\">\n",
       "      <th></th>\n",
       "      <th>Total</th>\n",
       "      <th>%</th>\n",
       "      <th>Valor Médio</th>\n",
       "      <th>Valor Total</th>\n",
       "    </tr>\n",
       "  </thead>\n",
       "  <tbody>\n",
       "    <tr>\n",
       "      <th>7</th>\n",
       "      <td>19</td>\n",
       "      <td>3.32</td>\n",
       "      <td>2.92</td>\n",
       "      <td>55.47</td>\n",
       "    </tr>\n",
       "    <tr>\n",
       "      <th>8</th>\n",
       "      <td>3</td>\n",
       "      <td>0.52</td>\n",
       "      <td>1.96</td>\n",
       "      <td>5.87</td>\n",
       "    </tr>\n",
       "    <tr>\n",
       "      <th>9</th>\n",
       "      <td>6</td>\n",
       "      <td>1.05</td>\n",
       "      <td>3.69</td>\n",
       "      <td>22.12</td>\n",
       "    </tr>\n",
       "    <tr>\n",
       "      <th>10</th>\n",
       "      <td>4</td>\n",
       "      <td>0.70</td>\n",
       "      <td>3.29</td>\n",
       "      <td>13.16</td>\n",
       "    </tr>\n",
       "    <tr>\n",
       "      <th>11</th>\n",
       "      <td>9</td>\n",
       "      <td>1.57</td>\n",
       "      <td>2.97</td>\n",
       "      <td>26.76</td>\n",
       "    </tr>\n",
       "    <tr>\n",
       "      <th>12</th>\n",
       "      <td>5</td>\n",
       "      <td>0.87</td>\n",
       "      <td>3.84</td>\n",
       "      <td>19.21</td>\n",
       "    </tr>\n",
       "    <tr>\n",
       "      <th>13</th>\n",
       "      <td>11</td>\n",
       "      <td>1.92</td>\n",
       "      <td>2.14</td>\n",
       "      <td>23.52</td>\n",
       "    </tr>\n",
       "    <tr>\n",
       "      <th>14</th>\n",
       "      <td>6</td>\n",
       "      <td>1.05</td>\n",
       "      <td>2.38</td>\n",
       "      <td>14.30</td>\n",
       "    </tr>\n",
       "    <tr>\n",
       "      <th>15</th>\n",
       "      <td>47</td>\n",
       "      <td>8.20</td>\n",
       "      <td>2.99</td>\n",
       "      <td>140.36</td>\n",
       "    </tr>\n",
       "    <tr>\n",
       "      <th>16</th>\n",
       "      <td>23</td>\n",
       "      <td>4.01</td>\n",
       "      <td>2.64</td>\n",
       "      <td>60.71</td>\n",
       "    </tr>\n",
       "    <tr>\n",
       "      <th>17</th>\n",
       "      <td>17</td>\n",
       "      <td>2.97</td>\n",
       "      <td>3.01</td>\n",
       "      <td>51.11</td>\n",
       "    </tr>\n",
       "    <tr>\n",
       "      <th>18</th>\n",
       "      <td>24</td>\n",
       "      <td>4.19</td>\n",
       "      <td>2.80</td>\n",
       "      <td>67.14</td>\n",
       "    </tr>\n",
       "    <tr>\n",
       "      <th>19</th>\n",
       "      <td>22</td>\n",
       "      <td>3.84</td>\n",
       "      <td>3.05</td>\n",
       "      <td>67.10</td>\n",
       "    </tr>\n",
       "    <tr>\n",
       "      <th>20</th>\n",
       "      <td>98</td>\n",
       "      <td>17.10</td>\n",
       "      <td>2.88</td>\n",
       "      <td>282.68</td>\n",
       "    </tr>\n",
       "    <tr>\n",
       "      <th>21</th>\n",
       "      <td>43</td>\n",
       "      <td>7.50</td>\n",
       "      <td>2.80</td>\n",
       "      <td>120.37</td>\n",
       "    </tr>\n",
       "    <tr>\n",
       "      <th>22</th>\n",
       "      <td>68</td>\n",
       "      <td>11.87</td>\n",
       "      <td>3.03</td>\n",
       "      <td>206.05</td>\n",
       "    </tr>\n",
       "    <tr>\n",
       "      <th>23</th>\n",
       "      <td>57</td>\n",
       "      <td>9.95</td>\n",
       "      <td>2.74</td>\n",
       "      <td>156.21</td>\n",
       "    </tr>\n",
       "    <tr>\n",
       "      <th>24</th>\n",
       "      <td>70</td>\n",
       "      <td>12.22</td>\n",
       "      <td>3.05</td>\n",
       "      <td>213.46</td>\n",
       "    </tr>\n",
       "    <tr>\n",
       "      <th>25</th>\n",
       "      <td>67</td>\n",
       "      <td>11.69</td>\n",
       "      <td>3.08</td>\n",
       "      <td>206.52</td>\n",
       "    </tr>\n",
       "    <tr>\n",
       "      <th>26</th>\n",
       "      <td>13</td>\n",
       "      <td>2.27</td>\n",
       "      <td>2.45</td>\n",
       "      <td>31.83</td>\n",
       "    </tr>\n",
       "    <tr>\n",
       "      <th>27</th>\n",
       "      <td>19</td>\n",
       "      <td>3.32</td>\n",
       "      <td>3.06</td>\n",
       "      <td>58.21</td>\n",
       "    </tr>\n",
       "    <tr>\n",
       "      <th>28</th>\n",
       "      <td>5</td>\n",
       "      <td>0.87</td>\n",
       "      <td>2.56</td>\n",
       "      <td>12.81</td>\n",
       "    </tr>\n",
       "    <tr>\n",
       "      <th>29</th>\n",
       "      <td>21</td>\n",
       "      <td>3.66</td>\n",
       "      <td>2.90</td>\n",
       "      <td>60.96</td>\n",
       "    </tr>\n",
       "    <tr>\n",
       "      <th>30</th>\n",
       "      <td>18</td>\n",
       "      <td>3.14</td>\n",
       "      <td>3.11</td>\n",
       "      <td>56.01</td>\n",
       "    </tr>\n",
       "    <tr>\n",
       "      <th>31</th>\n",
       "      <td>16</td>\n",
       "      <td>2.79</td>\n",
       "      <td>2.98</td>\n",
       "      <td>47.62</td>\n",
       "    </tr>\n",
       "    <tr>\n",
       "      <th>32</th>\n",
       "      <td>11</td>\n",
       "      <td>1.92</td>\n",
       "      <td>3.41</td>\n",
       "      <td>37.50</td>\n",
       "    </tr>\n",
       "    <tr>\n",
       "      <th>33</th>\n",
       "      <td>11</td>\n",
       "      <td>1.92</td>\n",
       "      <td>2.89</td>\n",
       "      <td>31.80</td>\n",
       "    </tr>\n",
       "    <tr>\n",
       "      <th>34</th>\n",
       "      <td>8</td>\n",
       "      <td>1.40</td>\n",
       "      <td>3.04</td>\n",
       "      <td>24.32</td>\n",
       "    </tr>\n",
       "    <tr>\n",
       "      <th>35</th>\n",
       "      <td>12</td>\n",
       "      <td>2.09</td>\n",
       "      <td>3.08</td>\n",
       "      <td>37.02</td>\n",
       "    </tr>\n",
       "    <tr>\n",
       "      <th>36</th>\n",
       "      <td>7</td>\n",
       "      <td>1.22</td>\n",
       "      <td>2.88</td>\n",
       "      <td>20.14</td>\n",
       "    </tr>\n",
       "    <tr>\n",
       "      <th>37</th>\n",
       "      <td>9</td>\n",
       "      <td>1.57</td>\n",
       "      <td>2.35</td>\n",
       "      <td>21.11</td>\n",
       "    </tr>\n",
       "    <tr>\n",
       "      <th>38</th>\n",
       "      <td>9</td>\n",
       "      <td>1.57</td>\n",
       "      <td>2.87</td>\n",
       "      <td>25.79</td>\n",
       "    </tr>\n",
       "    <tr>\n",
       "      <th>39</th>\n",
       "      <td>5</td>\n",
       "      <td>0.87</td>\n",
       "      <td>3.07</td>\n",
       "      <td>15.34</td>\n",
       "    </tr>\n",
       "    <tr>\n",
       "      <th>40</th>\n",
       "      <td>14</td>\n",
       "      <td>2.44</td>\n",
       "      <td>3.22</td>\n",
       "      <td>45.11</td>\n",
       "    </tr>\n",
       "    <tr>\n",
       "      <th>42</th>\n",
       "      <td>1</td>\n",
       "      <td>0.17</td>\n",
       "      <td>2.11</td>\n",
       "      <td>2.11</td>\n",
       "    </tr>\n",
       "    <tr>\n",
       "      <th>43</th>\n",
       "      <td>1</td>\n",
       "      <td>0.17</td>\n",
       "      <td>3.81</td>\n",
       "      <td>3.81</td>\n",
       "    </tr>\n",
       "    <tr>\n",
       "      <th>45</th>\n",
       "      <td>1</td>\n",
       "      <td>0.17</td>\n",
       "      <td>2.72</td>\n",
       "      <td>2.72</td>\n",
       "    </tr>\n",
       "  </tbody>\n",
       "</table>\n",
       "</div>"
      ],
      "text/plain": [
       "    Total      %  Valor Médio  Valor Total\n",
       "7      19   3.32         2.92        55.47\n",
       "8       3   0.52         1.96         5.87\n",
       "9       6   1.05         3.69        22.12\n",
       "10      4   0.70         3.29        13.16\n",
       "11      9   1.57         2.97        26.76\n",
       "12      5   0.87         3.84        19.21\n",
       "13     11   1.92         2.14        23.52\n",
       "14      6   1.05         2.38        14.30\n",
       "15     47   8.20         2.99       140.36\n",
       "16     23   4.01         2.64        60.71\n",
       "17     17   2.97         3.01        51.11\n",
       "18     24   4.19         2.80        67.14\n",
       "19     22   3.84         3.05        67.10\n",
       "20     98  17.10         2.88       282.68\n",
       "21     43   7.50         2.80       120.37\n",
       "22     68  11.87         3.03       206.05\n",
       "23     57   9.95         2.74       156.21\n",
       "24     70  12.22         3.05       213.46\n",
       "25     67  11.69         3.08       206.52\n",
       "26     13   2.27         2.45        31.83\n",
       "27     19   3.32         3.06        58.21\n",
       "28      5   0.87         2.56        12.81\n",
       "29     21   3.66         2.90        60.96\n",
       "30     18   3.14         3.11        56.01\n",
       "31     16   2.79         2.98        47.62\n",
       "32     11   1.92         3.41        37.50\n",
       "33     11   1.92         2.89        31.80\n",
       "34      8   1.40         3.04        24.32\n",
       "35     12   2.09         3.08        37.02\n",
       "36      7   1.22         2.88        20.14\n",
       "37      9   1.57         2.35        21.11\n",
       "38      9   1.57         2.87        25.79\n",
       "39      5   0.87         3.07        15.34\n",
       "40     14   2.44         3.22        45.11\n",
       "42      1   0.17         2.11         2.11\n",
       "43      1   0.17         3.81         3.81\n",
       "45      1   0.17         2.72         2.72"
      ]
     },
     "execution_count": 29,
     "metadata": {},
     "output_type": "execute_result"
    }
   ],
   "source": [
    "# Dataframe com os resultados\n",
    "age_analysis = pd.DataFrame({'Total': age_count,\n",
    "                            '%': age_percent,\n",
    "                            'Valor Médio': age_average,\n",
    "                            'Valor Total': age_total})\n",
    "age_analysis = age_analysis.round(2)\n",
    "age_analysis"
   ]
  },
  {
   "cell_type": "markdown",
   "metadata": {},
   "source": [
    "## Clientes que Mais Gastam (Top 5)"
   ]
  },
  {
   "cell_type": "code",
   "execution_count": 30,
   "metadata": {
    "ExecuteTime": {
     "end_time": "2022-05-22T18:16:11.448554Z",
     "start_time": "2022-05-22T18:16:11.440552Z"
    }
   },
   "outputs": [
    {
     "data": {
      "text/plain": [
       "Login\n",
       "Adairialis76    2.46\n",
       "Aduephos78      6.70\n",
       "Aeduera68       5.80\n",
       "Aela49          2.46\n",
       "Aela59          1.27\n",
       "                ... \n",
       "Yasurra52       3.14\n",
       "Yathecal72      7.77\n",
       "Yathecal82      2.41\n",
       "Zhisrisu83      2.46\n",
       "Zontibe81       3.71\n",
       "Name: Valor, Length: 573, dtype: float64"
      ]
     },
     "execution_count": 30,
     "metadata": {},
     "output_type": "execute_result"
    }
   ],
   "source": [
    "# Total das compras por login\n",
    "login_total = purchase_file.groupby(['Login']).sum()['Valor']\n",
    "login_total"
   ]
  },
  {
   "cell_type": "code",
   "execution_count": 31,
   "metadata": {
    "ExecuteTime": {
     "end_time": "2022-05-22T18:16:13.860517Z",
     "start_time": "2022-05-22T18:16:13.852514Z"
    }
   },
   "outputs": [
    {
     "data": {
      "text/plain": [
       "Login\n",
       "Adairialis76    2.460000\n",
       "Aduephos78      2.233333\n",
       "Aeduera68       1.933333\n",
       "Aela49          2.460000\n",
       "Aela59          1.270000\n",
       "                  ...   \n",
       "Yasurra52       3.140000\n",
       "Yathecal72      3.885000\n",
       "Yathecal82      2.410000\n",
       "Zhisrisu83      1.230000\n",
       "Zontibe81       3.710000\n",
       "Name: Valor, Length: 573, dtype: float64"
      ]
     },
     "execution_count": 31,
     "metadata": {},
     "output_type": "execute_result"
    }
   ],
   "source": [
    "# Média das compras por login\n",
    "login_average = purchase_file.groupby(['Login']).mean()['Valor']\n",
    "login_average"
   ]
  },
  {
   "cell_type": "code",
   "execution_count": 32,
   "metadata": {
    "ExecuteTime": {
     "end_time": "2022-05-22T18:16:15.398293Z",
     "start_time": "2022-05-22T18:16:15.393292Z"
    }
   },
   "outputs": [
    {
     "data": {
      "text/plain": [
       "Login\n",
       "Adairialis76    1\n",
       "Aduephos78      3\n",
       "Aeduera68       3\n",
       "Aela49          1\n",
       "Aela59          1\n",
       "               ..\n",
       "Yasurra52       1\n",
       "Yathecal72      2\n",
       "Yathecal82      1\n",
       "Zhisrisu83      2\n",
       "Zontibe81       1\n",
       "Name: Valor, Length: 573, dtype: int64"
      ]
     },
     "execution_count": 32,
     "metadata": {},
     "output_type": "execute_result"
    }
   ],
   "source": [
    "# Número de compras por login\n",
    "login_count = purchase_file.groupby(['Login']).count()['Valor']\n",
    "login_count"
   ]
  },
  {
   "cell_type": "code",
   "execution_count": 33,
   "metadata": {
    "ExecuteTime": {
     "end_time": "2022-05-22T18:16:33.737552Z",
     "start_time": "2022-05-22T18:16:33.727549Z"
    }
   },
   "outputs": [
    {
     "data": {
      "text/html": [
       "<div>\n",
       "<style scoped>\n",
       "    .dataframe tbody tr th:only-of-type {\n",
       "        vertical-align: middle;\n",
       "    }\n",
       "\n",
       "    .dataframe tbody tr th {\n",
       "        vertical-align: top;\n",
       "    }\n",
       "\n",
       "    .dataframe thead th {\n",
       "        text-align: right;\n",
       "    }\n",
       "</style>\n",
       "<table border=\"1\" class=\"dataframe\">\n",
       "  <thead>\n",
       "    <tr style=\"text-align: right;\">\n",
       "      <th></th>\n",
       "      <th>Login</th>\n",
       "      <th>Valor Total</th>\n",
       "      <th>Valor Médio</th>\n",
       "      <th>Número de Compras</th>\n",
       "    </tr>\n",
       "  </thead>\n",
       "  <tbody>\n",
       "    <tr>\n",
       "      <th>0</th>\n",
       "      <td>Adairialis76</td>\n",
       "      <td>2.46</td>\n",
       "      <td>2.46</td>\n",
       "      <td>1</td>\n",
       "    </tr>\n",
       "    <tr>\n",
       "      <th>1</th>\n",
       "      <td>Aduephos78</td>\n",
       "      <td>6.70</td>\n",
       "      <td>2.23</td>\n",
       "      <td>3</td>\n",
       "    </tr>\n",
       "    <tr>\n",
       "      <th>2</th>\n",
       "      <td>Aeduera68</td>\n",
       "      <td>5.80</td>\n",
       "      <td>1.93</td>\n",
       "      <td>3</td>\n",
       "    </tr>\n",
       "    <tr>\n",
       "      <th>3</th>\n",
       "      <td>Aela49</td>\n",
       "      <td>2.46</td>\n",
       "      <td>2.46</td>\n",
       "      <td>1</td>\n",
       "    </tr>\n",
       "    <tr>\n",
       "      <th>4</th>\n",
       "      <td>Aela59</td>\n",
       "      <td>1.27</td>\n",
       "      <td>1.27</td>\n",
       "      <td>1</td>\n",
       "    </tr>\n",
       "    <tr>\n",
       "      <th>...</th>\n",
       "      <td>...</td>\n",
       "      <td>...</td>\n",
       "      <td>...</td>\n",
       "      <td>...</td>\n",
       "    </tr>\n",
       "    <tr>\n",
       "      <th>568</th>\n",
       "      <td>Yasurra52</td>\n",
       "      <td>3.14</td>\n",
       "      <td>3.14</td>\n",
       "      <td>1</td>\n",
       "    </tr>\n",
       "    <tr>\n",
       "      <th>569</th>\n",
       "      <td>Yathecal72</td>\n",
       "      <td>7.77</td>\n",
       "      <td>3.88</td>\n",
       "      <td>2</td>\n",
       "    </tr>\n",
       "    <tr>\n",
       "      <th>570</th>\n",
       "      <td>Yathecal82</td>\n",
       "      <td>2.41</td>\n",
       "      <td>2.41</td>\n",
       "      <td>1</td>\n",
       "    </tr>\n",
       "    <tr>\n",
       "      <th>571</th>\n",
       "      <td>Zhisrisu83</td>\n",
       "      <td>2.46</td>\n",
       "      <td>1.23</td>\n",
       "      <td>2</td>\n",
       "    </tr>\n",
       "    <tr>\n",
       "      <th>572</th>\n",
       "      <td>Zontibe81</td>\n",
       "      <td>3.71</td>\n",
       "      <td>3.71</td>\n",
       "      <td>1</td>\n",
       "    </tr>\n",
       "  </tbody>\n",
       "</table>\n",
       "<p>573 rows × 4 columns</p>\n",
       "</div>"
      ],
      "text/plain": [
       "            Login  Valor Total  Valor Médio  Número de Compras\n",
       "0    Adairialis76         2.46         2.46                  1\n",
       "1      Aduephos78         6.70         2.23                  3\n",
       "2       Aeduera68         5.80         1.93                  3\n",
       "3          Aela49         2.46         2.46                  1\n",
       "4          Aela59         1.27         1.27                  1\n",
       "..            ...          ...          ...                ...\n",
       "568     Yasurra52         3.14         3.14                  1\n",
       "569    Yathecal72         7.77         3.88                  2\n",
       "570    Yathecal82         2.41         2.41                  1\n",
       "571    Zhisrisu83         2.46         1.23                  2\n",
       "572     Zontibe81         3.71         3.71                  1\n",
       "\n",
       "[573 rows x 4 columns]"
      ]
     },
     "execution_count": 33,
     "metadata": {},
     "output_type": "execute_result"
    }
   ],
   "source": [
    "# Dataframe com os resultados\n",
    "login_analysis = pd.DataFrame({'Valor Total': login_total,\n",
    "                              'Valor Médio': login_average,\n",
    "                              'Número de Compras': login_count}).reset_index()\n",
    "login_analysis = login_analysis.round(2)\n",
    "login_analysis"
   ]
  },
  {
   "cell_type": "code",
   "execution_count": 34,
   "metadata": {
    "ExecuteTime": {
     "end_time": "2022-05-22T18:16:36.615557Z",
     "start_time": "2022-05-22T18:16:36.608556Z"
    }
   },
   "outputs": [
    {
     "data": {
      "text/html": [
       "<div>\n",
       "<style scoped>\n",
       "    .dataframe tbody tr th:only-of-type {\n",
       "        vertical-align: middle;\n",
       "    }\n",
       "\n",
       "    .dataframe tbody tr th {\n",
       "        vertical-align: top;\n",
       "    }\n",
       "\n",
       "    .dataframe thead th {\n",
       "        text-align: right;\n",
       "    }\n",
       "</style>\n",
       "<table border=\"1\" class=\"dataframe\">\n",
       "  <thead>\n",
       "    <tr style=\"text-align: right;\">\n",
       "      <th></th>\n",
       "      <th>Login</th>\n",
       "      <th>Valor Total</th>\n",
       "      <th>Valor Médio</th>\n",
       "      <th>Número de Compras</th>\n",
       "    </tr>\n",
       "  </thead>\n",
       "  <tbody>\n",
       "    <tr>\n",
       "      <th>538</th>\n",
       "      <td>Undirrala66</td>\n",
       "      <td>17.06</td>\n",
       "      <td>3.41</td>\n",
       "      <td>5</td>\n",
       "    </tr>\n",
       "    <tr>\n",
       "      <th>428</th>\n",
       "      <td>Saedue76</td>\n",
       "      <td>13.56</td>\n",
       "      <td>3.39</td>\n",
       "      <td>4</td>\n",
       "    </tr>\n",
       "    <tr>\n",
       "      <th>354</th>\n",
       "      <td>Mindimnya67</td>\n",
       "      <td>12.74</td>\n",
       "      <td>3.18</td>\n",
       "      <td>4</td>\n",
       "    </tr>\n",
       "    <tr>\n",
       "      <th>181</th>\n",
       "      <td>Haellysu29</td>\n",
       "      <td>12.73</td>\n",
       "      <td>4.24</td>\n",
       "      <td>3</td>\n",
       "    </tr>\n",
       "    <tr>\n",
       "      <th>120</th>\n",
       "      <td>Eoda93</td>\n",
       "      <td>11.58</td>\n",
       "      <td>3.86</td>\n",
       "      <td>3</td>\n",
       "    </tr>\n",
       "  </tbody>\n",
       "</table>\n",
       "</div>"
      ],
      "text/plain": [
       "           Login  Valor Total  Valor Médio  Número de Compras\n",
       "538  Undirrala66        17.06         3.41                  5\n",
       "428     Saedue76        13.56         3.39                  4\n",
       "354  Mindimnya67        12.74         3.18                  4\n",
       "181   Haellysu29        12.73         4.24                  3\n",
       "120       Eoda93        11.58         3.86                  3"
      ]
     },
     "execution_count": 34,
     "metadata": {},
     "output_type": "execute_result"
    }
   ],
   "source": [
    "# Top 5\n",
    "login_analysis.sort_values(by='Valor Total', ascending=False).head(5)"
   ]
  },
  {
   "cell_type": "markdown",
   "metadata": {},
   "source": [
    "## Itens Mais Comprados (Top 5)"
   ]
  },
  {
   "cell_type": "code",
   "execution_count": 35,
   "metadata": {
    "ExecuteTime": {
     "end_time": "2022-05-22T18:16:40.773165Z",
     "start_time": "2022-05-22T18:16:40.766164Z"
    }
   },
   "outputs": [
    {
     "data": {
      "text/plain": [
       "Nome do Item\n",
       "Abyssal Shard                       6.12\n",
       "Aetherius, Boon of the Blessed     19.00\n",
       "Agatha                              9.55\n",
       "Alpha                              10.92\n",
       "Alpha, Oath of Zeal                20.16\n",
       "                                   ...  \n",
       "Wolf                                9.20\n",
       "Wolf, Promise of the Moonwalker    13.16\n",
       "Worldbreaker                        6.58\n",
       "Yearning Crusher                    2.12\n",
       "Yearning Mageblade                  7.16\n",
       "Name: Valor, Length: 179, dtype: float64"
      ]
     },
     "execution_count": 35,
     "metadata": {},
     "output_type": "execute_result"
    }
   ],
   "source": [
    "# Total das compras por item\n",
    "item_total = purchase_file.groupby(['Nome do Item']).sum()['Valor']\n",
    "item_total"
   ]
  },
  {
   "cell_type": "code",
   "execution_count": 36,
   "metadata": {
    "ExecuteTime": {
     "end_time": "2022-05-22T18:16:41.358280Z",
     "start_time": "2022-05-22T18:16:41.352279Z"
    }
   },
   "outputs": [
    {
     "data": {
      "text/plain": [
       "Nome do Item\n",
       "Abyssal Shard                      2.04\n",
       "Aetherius, Boon of the Blessed     4.75\n",
       "Agatha                             1.91\n",
       "Alpha                              1.56\n",
       "Alpha, Oath of Zeal                2.88\n",
       "                                   ... \n",
       "Wolf                               1.84\n",
       "Wolf, Promise of the Moonwalker    1.88\n",
       "Worldbreaker                       3.29\n",
       "Yearning Crusher                   1.06\n",
       "Yearning Mageblade                 1.79\n",
       "Name: Valor, Length: 179, dtype: float64"
      ]
     },
     "execution_count": 36,
     "metadata": {},
     "output_type": "execute_result"
    }
   ],
   "source": [
    "# Média das compras por item\n",
    "item_average = purchase_file.groupby(['Nome do Item']).mean()['Valor']\n",
    "item_average"
   ]
  },
  {
   "cell_type": "code",
   "execution_count": 37,
   "metadata": {
    "ExecuteTime": {
     "end_time": "2022-05-22T18:16:42.119265Z",
     "start_time": "2022-05-22T18:16:42.113264Z"
    }
   },
   "outputs": [
    {
     "data": {
      "text/plain": [
       "Nome do Item\n",
       "Abyssal Shard                      3\n",
       "Aetherius, Boon of the Blessed     4\n",
       "Agatha                             5\n",
       "Alpha                              7\n",
       "Alpha, Oath of Zeal                7\n",
       "                                  ..\n",
       "Wolf                               5\n",
       "Wolf, Promise of the Moonwalker    7\n",
       "Worldbreaker                       2\n",
       "Yearning Crusher                   2\n",
       "Yearning Mageblade                 4\n",
       "Name: Valor, Length: 179, dtype: int64"
      ]
     },
     "execution_count": 37,
     "metadata": {},
     "output_type": "execute_result"
    }
   ],
   "source": [
    "# Número de compras por item\n",
    "item_count = purchase_file.groupby(['Nome do Item']).count()['Valor']\n",
    "item_count"
   ]
  },
  {
   "cell_type": "code",
   "execution_count": 40,
   "metadata": {
    "ExecuteTime": {
     "end_time": "2022-05-22T18:16:55.665571Z",
     "start_time": "2022-05-22T18:16:55.655569Z"
    }
   },
   "outputs": [
    {
     "data": {
      "text/html": [
       "<div>\n",
       "<style scoped>\n",
       "    .dataframe tbody tr th:only-of-type {\n",
       "        vertical-align: middle;\n",
       "    }\n",
       "\n",
       "    .dataframe tbody tr th {\n",
       "        vertical-align: top;\n",
       "    }\n",
       "\n",
       "    .dataframe thead th {\n",
       "        text-align: right;\n",
       "    }\n",
       "</style>\n",
       "<table border=\"1\" class=\"dataframe\">\n",
       "  <thead>\n",
       "    <tr style=\"text-align: right;\">\n",
       "      <th></th>\n",
       "      <th>Nome do Item</th>\n",
       "      <th>Valor Total</th>\n",
       "      <th>Valor Médio</th>\n",
       "      <th>Número de Compras</th>\n",
       "    </tr>\n",
       "  </thead>\n",
       "  <tbody>\n",
       "    <tr>\n",
       "      <th>0</th>\n",
       "      <td>Abyssal Shard</td>\n",
       "      <td>6.12</td>\n",
       "      <td>2.04</td>\n",
       "      <td>3</td>\n",
       "    </tr>\n",
       "    <tr>\n",
       "      <th>1</th>\n",
       "      <td>Aetherius, Boon of the Blessed</td>\n",
       "      <td>19.00</td>\n",
       "      <td>4.75</td>\n",
       "      <td>4</td>\n",
       "    </tr>\n",
       "    <tr>\n",
       "      <th>2</th>\n",
       "      <td>Agatha</td>\n",
       "      <td>9.55</td>\n",
       "      <td>1.91</td>\n",
       "      <td>5</td>\n",
       "    </tr>\n",
       "    <tr>\n",
       "      <th>3</th>\n",
       "      <td>Alpha</td>\n",
       "      <td>10.92</td>\n",
       "      <td>1.56</td>\n",
       "      <td>7</td>\n",
       "    </tr>\n",
       "    <tr>\n",
       "      <th>4</th>\n",
       "      <td>Alpha, Oath of Zeal</td>\n",
       "      <td>20.16</td>\n",
       "      <td>2.88</td>\n",
       "      <td>7</td>\n",
       "    </tr>\n",
       "    <tr>\n",
       "      <th>...</th>\n",
       "      <td>...</td>\n",
       "      <td>...</td>\n",
       "      <td>...</td>\n",
       "      <td>...</td>\n",
       "    </tr>\n",
       "    <tr>\n",
       "      <th>174</th>\n",
       "      <td>Wolf</td>\n",
       "      <td>9.20</td>\n",
       "      <td>1.84</td>\n",
       "      <td>5</td>\n",
       "    </tr>\n",
       "    <tr>\n",
       "      <th>175</th>\n",
       "      <td>Wolf, Promise of the Moonwalker</td>\n",
       "      <td>13.16</td>\n",
       "      <td>1.88</td>\n",
       "      <td>7</td>\n",
       "    </tr>\n",
       "    <tr>\n",
       "      <th>176</th>\n",
       "      <td>Worldbreaker</td>\n",
       "      <td>6.58</td>\n",
       "      <td>3.29</td>\n",
       "      <td>2</td>\n",
       "    </tr>\n",
       "    <tr>\n",
       "      <th>177</th>\n",
       "      <td>Yearning Crusher</td>\n",
       "      <td>2.12</td>\n",
       "      <td>1.06</td>\n",
       "      <td>2</td>\n",
       "    </tr>\n",
       "    <tr>\n",
       "      <th>178</th>\n",
       "      <td>Yearning Mageblade</td>\n",
       "      <td>7.16</td>\n",
       "      <td>1.79</td>\n",
       "      <td>4</td>\n",
       "    </tr>\n",
       "  </tbody>\n",
       "</table>\n",
       "<p>179 rows × 4 columns</p>\n",
       "</div>"
      ],
      "text/plain": [
       "                        Nome do Item  Valor Total  Valor Médio  \\\n",
       "0                      Abyssal Shard         6.12         2.04   \n",
       "1     Aetherius, Boon of the Blessed        19.00         4.75   \n",
       "2                             Agatha         9.55         1.91   \n",
       "3                              Alpha        10.92         1.56   \n",
       "4                Alpha, Oath of Zeal        20.16         2.88   \n",
       "..                               ...          ...          ...   \n",
       "174                             Wolf         9.20         1.84   \n",
       "175  Wolf, Promise of the Moonwalker        13.16         1.88   \n",
       "176                     Worldbreaker         6.58         3.29   \n",
       "177                 Yearning Crusher         2.12         1.06   \n",
       "178               Yearning Mageblade         7.16         1.79   \n",
       "\n",
       "     Número de Compras  \n",
       "0                    3  \n",
       "1                    4  \n",
       "2                    5  \n",
       "3                    7  \n",
       "4                    7  \n",
       "..                 ...  \n",
       "174                  5  \n",
       "175                  7  \n",
       "176                  2  \n",
       "177                  2  \n",
       "178                  4  \n",
       "\n",
       "[179 rows x 4 columns]"
      ]
     },
     "execution_count": 40,
     "metadata": {},
     "output_type": "execute_result"
    }
   ],
   "source": [
    "# Dataframe com os resultados\n",
    "item_analysis = pd.DataFrame({'Valor Total': item_total,\n",
    "                             'Valor Médio': item_average,\n",
    "                             'Número de Compras': item_count}).reset_index()\n",
    "item_analysis = item_analysis.round(2)\n",
    "item_analysis"
   ]
  },
  {
   "cell_type": "code",
   "execution_count": 41,
   "metadata": {
    "ExecuteTime": {
     "end_time": "2022-05-22T18:16:59.863078Z",
     "start_time": "2022-05-22T18:16:59.856085Z"
    }
   },
   "outputs": [
    {
     "data": {
      "text/html": [
       "<div>\n",
       "<style scoped>\n",
       "    .dataframe tbody tr th:only-of-type {\n",
       "        vertical-align: middle;\n",
       "    }\n",
       "\n",
       "    .dataframe tbody tr th {\n",
       "        vertical-align: top;\n",
       "    }\n",
       "\n",
       "    .dataframe thead th {\n",
       "        text-align: right;\n",
       "    }\n",
       "</style>\n",
       "<table border=\"1\" class=\"dataframe\">\n",
       "  <thead>\n",
       "    <tr style=\"text-align: right;\">\n",
       "      <th></th>\n",
       "      <th>Nome do Item</th>\n",
       "      <th>Valor Total</th>\n",
       "      <th>Valor Médio</th>\n",
       "      <th>Número de Compras</th>\n",
       "    </tr>\n",
       "  </thead>\n",
       "  <tbody>\n",
       "    <tr>\n",
       "      <th>56</th>\n",
       "      <td>Final Critic</td>\n",
       "      <td>38.60</td>\n",
       "      <td>2.76</td>\n",
       "      <td>14</td>\n",
       "    </tr>\n",
       "    <tr>\n",
       "      <th>8</th>\n",
       "      <td>Arcane Gem</td>\n",
       "      <td>24.53</td>\n",
       "      <td>2.23</td>\n",
       "      <td>11</td>\n",
       "    </tr>\n",
       "    <tr>\n",
       "      <th>11</th>\n",
       "      <td>Betrayal, Whisper of Grieving Widows</td>\n",
       "      <td>25.85</td>\n",
       "      <td>2.35</td>\n",
       "      <td>11</td>\n",
       "    </tr>\n",
       "    <tr>\n",
       "      <th>137</th>\n",
       "      <td>Stormcaller</td>\n",
       "      <td>34.65</td>\n",
       "      <td>3.47</td>\n",
       "      <td>10</td>\n",
       "    </tr>\n",
       "    <tr>\n",
       "      <th>173</th>\n",
       "      <td>Woeful Adamantite Claymore</td>\n",
       "      <td>11.16</td>\n",
       "      <td>1.24</td>\n",
       "      <td>9</td>\n",
       "    </tr>\n",
       "  </tbody>\n",
       "</table>\n",
       "</div>"
      ],
      "text/plain": [
       "                             Nome do Item  Valor Total  Valor Médio  \\\n",
       "56                           Final Critic        38.60         2.76   \n",
       "8                              Arcane Gem        24.53         2.23   \n",
       "11   Betrayal, Whisper of Grieving Widows        25.85         2.35   \n",
       "137                           Stormcaller        34.65         3.47   \n",
       "173            Woeful Adamantite Claymore        11.16         1.24   \n",
       "\n",
       "     Número de Compras  \n",
       "56                  14  \n",
       "8                   11  \n",
       "11                  11  \n",
       "137                 10  \n",
       "173                  9  "
      ]
     },
     "execution_count": 41,
     "metadata": {},
     "output_type": "execute_result"
    }
   ],
   "source": [
    "#Top5\n",
    "item_analysis.sort_values(by='Número de Compras', ascending=False).head(5)"
   ]
  },
  {
   "cell_type": "markdown",
   "metadata": {},
   "source": [
    "## Itens Mais Lucrativos (Top 5)"
   ]
  },
  {
   "cell_type": "code",
   "execution_count": 42,
   "metadata": {
    "ExecuteTime": {
     "end_time": "2022-05-22T18:17:08.680533Z",
     "start_time": "2022-05-22T18:17:08.673539Z"
    }
   },
   "outputs": [
    {
     "data": {
      "text/html": [
       "<div>\n",
       "<style scoped>\n",
       "    .dataframe tbody tr th:only-of-type {\n",
       "        vertical-align: middle;\n",
       "    }\n",
       "\n",
       "    .dataframe tbody tr th {\n",
       "        vertical-align: top;\n",
       "    }\n",
       "\n",
       "    .dataframe thead th {\n",
       "        text-align: right;\n",
       "    }\n",
       "</style>\n",
       "<table border=\"1\" class=\"dataframe\">\n",
       "  <thead>\n",
       "    <tr style=\"text-align: right;\">\n",
       "      <th></th>\n",
       "      <th>Nome do Item</th>\n",
       "      <th>Valor Total</th>\n",
       "      <th>Valor Médio</th>\n",
       "      <th>Número de Compras</th>\n",
       "    </tr>\n",
       "  </thead>\n",
       "  <tbody>\n",
       "    <tr>\n",
       "      <th>56</th>\n",
       "      <td>Final Critic</td>\n",
       "      <td>38.60</td>\n",
       "      <td>2.76</td>\n",
       "      <td>14</td>\n",
       "    </tr>\n",
       "    <tr>\n",
       "      <th>112</th>\n",
       "      <td>Retribution Axe</td>\n",
       "      <td>37.26</td>\n",
       "      <td>4.14</td>\n",
       "      <td>9</td>\n",
       "    </tr>\n",
       "    <tr>\n",
       "      <th>137</th>\n",
       "      <td>Stormcaller</td>\n",
       "      <td>34.65</td>\n",
       "      <td>3.47</td>\n",
       "      <td>10</td>\n",
       "    </tr>\n",
       "    <tr>\n",
       "      <th>132</th>\n",
       "      <td>Spectral Diamond Doomblade</td>\n",
       "      <td>29.75</td>\n",
       "      <td>4.25</td>\n",
       "      <td>7</td>\n",
       "    </tr>\n",
       "    <tr>\n",
       "      <th>96</th>\n",
       "      <td>Orenmir</td>\n",
       "      <td>29.70</td>\n",
       "      <td>4.95</td>\n",
       "      <td>6</td>\n",
       "    </tr>\n",
       "  </tbody>\n",
       "</table>\n",
       "</div>"
      ],
      "text/plain": [
       "                   Nome do Item  Valor Total  Valor Médio  Número de Compras\n",
       "56                 Final Critic        38.60         2.76                 14\n",
       "112             Retribution Axe        37.26         4.14                  9\n",
       "137                 Stormcaller        34.65         3.47                 10\n",
       "132  Spectral Diamond Doomblade        29.75         4.25                  7\n",
       "96                      Orenmir        29.70         4.95                  6"
      ]
     },
     "execution_count": 42,
     "metadata": {},
     "output_type": "execute_result"
    }
   ],
   "source": [
    "#Top5\n",
    "item_analysis.sort_values(by='Valor Total', ascending=False).head(5)"
   ]
  }
 ],
 "metadata": {
  "kernelspec": {
   "display_name": "Python 3 (ipykernel)",
   "language": "python",
   "name": "python3"
  },
  "language_info": {
   "codemirror_mode": {
    "name": "ipython",
    "version": 3
   },
   "file_extension": ".py",
   "mimetype": "text/x-python",
   "name": "python",
   "nbconvert_exporter": "python",
   "pygments_lexer": "ipython3",
   "version": "3.9.7"
  }
 },
 "nbformat": 4,
 "nbformat_minor": 2
}
